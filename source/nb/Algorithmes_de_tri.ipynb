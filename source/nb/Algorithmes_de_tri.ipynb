{
 "cells": [
  {
   "cell_type": "markdown",
   "id": "9fb2881d",
   "metadata": {},
   "source": [
    "# Algorithmes de tri"
   ]
  },
  {
   "cell_type": "markdown",
   "id": "46712b07",
   "metadata": {},
   "source": [
    "## Tri par sélection\n",
    "\n",
    "Dans un tableau de nombres de dimension (longueur) n:\n",
    "\n",
    "- on cherche la plus petite valeur de celui-ci que l'on place en début de tableau, soit d'indice 0.\n",
    "- il reste à trier le reste du tableau c'est à dire les valeurs d'indices 1 à n-1. Donc on recommence le tri en partant de l'indice 1.\n",
    "\n",
    "On voit ici la construction d'une boucle avec comme variant de boucle l'indice de tableau de 0 à n-1\n",
    "\n",
    "**Algorithme du tri par sélection**\n",
    "\n",
    "```\n",
    "# premier indice du tableau\n",
    "i = 0\n",
    "n = len(tableau)\n",
    "tant que i < n:\n",
    "\tj = i\n",
    "\tposition_valeur_minimale = i\n",
    "\ttant que j < n:\n",
    "\t\tsi tableau[j] < tableau[position_valeur_minimale]:\n",
    "\t\t\tposition_valeur_minimale = j\n",
    "\t\tj = j + 1\n",
    "\tsi position_valeur_minimale != i\n",
    "\t\ton échange les valeurs d'indice i et position_valeur_minimale\n",
    "\ti = i + 1\n",
    "```"
   ]
  },
  {
   "cell_type": "code",
   "execution_count": 1,
   "id": "0e968d5a",
   "metadata": {},
   "outputs": [],
   "source": [
    "from random import randint\n",
    "from timeit import timeit"
   ]
  },
  {
   "cell_type": "code",
   "execution_count": 2,
   "id": "87dc783b",
   "metadata": {},
   "outputs": [],
   "source": [
    "def tri_selection(tableau):\n",
    "    i = 0\n",
    "    n = len(tableau)\n",
    "    \n",
    "    # on parcourt le tableau, l'indice i prend les valeurs de 0 à n-1\n",
    "    while i < n:\n",
    "        \n",
    "        # on initialise les indices à la valeur de l'indice i (début du reste du tableau)\n",
    "        j = i\n",
    "        position_valeur_minimale = i\n",
    "        \n",
    "        # on parcourt le reste du tableau (à partir de l'indice i, donc j prend les valeurs de i à n-1)\n",
    "        while j < n:\n",
    "            \n",
    "            # on mémorise l'indice de la plus petite valeur du reste du tableau (entre les indices i et n-1)\n",
    "            if tableau[j] < tableau[position_valeur_minimale]:\n",
    "                position_valeur_minimale = j\n",
    "            j = j + 1\n",
    "            \n",
    "        # si les valeurs ne sont pas égales, la plus petite valeur remplace celle d'indice i et vice versa\n",
    "        if i != position_valeur_minimale:\n",
    "            tableau[i],tableau[position_valeur_minimale] = tableau[position_valeur_minimale],tableau[i]\n",
    "            \n",
    "        # on passe à l'indice suivant\n",
    "        i = i + 1\n",
    "    return tableau"
   ]
  },
  {
   "cell_type": "code",
   "execution_count": 3,
   "id": "0cdaf5b5",
   "metadata": {},
   "outputs": [
    {
     "data": {
      "text/plain": [
       "[2, 3, 4, 5, 6, 9, 10, 11, 15]"
      ]
     },
     "execution_count": 3,
     "metadata": {},
     "output_type": "execute_result"
    }
   ],
   "source": [
    "t = [3,9,4,11,5,2,10,6,15]\n",
    "tri_selection(t)"
   ]
  },
  {
   "cell_type": "markdown",
   "id": "2669fb93",
   "metadata": {},
   "source": [
    "## Tri par insertion\n",
    "\n",
    "Dans un tableau de nombres de dimension (longueur) n:\n",
    "\n",
    "- on cherche à insérer une valeur d'indice j jusqu'à sa bonne place dans le début du tableau entre les indices 0 et j-1.\n",
    "- On considère que le début du tableau, de l'indice 0 à j-1, les valeurs sont triées.\n",
    "- On compare les valeurs d'indice j-1, j-2 jusqu'à 0 (si nécessaire) avec la valeur d'indice j. \n",
    "- Tant que les valeurs d'indice j-1, j-2, ... sont supérieures à la valeur d'indice j, on les décale de 1 rang à droite.\n",
    "- Ensuite on insère la valeur d'indice j dans le trou laissé par les valeurs décalées.\n",
    "\n",
    "**Algorithme du tri par insertion**\n",
    "\n",
    "```\n",
    "# indice de la valeur à insérer (la valeur d'indice 0 est déjà insérée)\n",
    "j = 1\n",
    "n = len(tableau)\n",
    "tant que j < n:\n",
    "\ti = j - 1\n",
    "\tvaleur_a_inserer = tableau[j]\n",
    "\ttant que i >= 0 et tableau[i] > valeur_a_inserer :\n",
    "\t\ttableau[i + 1] = tableau[i]\n",
    "\t\ti = i - 1\n",
    "\ttableau[i + 1] = valeur_a_inserer\n",
    "\tj = j + 1\n",
    "```"
   ]
  },
  {
   "cell_type": "code",
   "execution_count": 23,
   "id": "86135097",
   "metadata": {},
   "outputs": [],
   "source": [
    "def tri_insertion(tableau):\n",
    "    j = 1\n",
    "    n = len(tableau)\n",
    "    while j < n:\n",
    "        i = j - 1\n",
    "        valeur_a_inserer = tableau[j]\n",
    "        while i >= 0 and tableau[i] > valeur_a_inserer:\n",
    "            tableau[i+1] = tableau[i]\n",
    "            i = i - 1\n",
    "        tableau[i+1]=valeur_a_inserer\n",
    "        j = j + 1\n",
    "    return tableau"
   ]
  },
  {
   "cell_type": "code",
   "execution_count": 24,
   "id": "49c64065",
   "metadata": {},
   "outputs": [
    {
     "data": {
      "text/plain": [
       "[2, 3, 4, 5, 6, 9, 10, 11, 15]"
      ]
     },
     "execution_count": 24,
     "metadata": {},
     "output_type": "execute_result"
    }
   ],
   "source": [
    "t = [3,9,4,11,5,2,10,6,15]\n",
    "tri_insertion(t)"
   ]
  },
  {
   "cell_type": "markdown",
   "id": "6519947a",
   "metadata": {},
   "source": [
    "## Mesure du nombre d'instructions\n",
    "\n",
    "Pour un tableau de dimension $n$:\n",
    "\n",
    "- La seconde boucle while réalise n instructions, puis n-1, puis n-2, jusqu'à 1\n",
    "- La première boucle échange les valeurs si besoin.\n",
    "\n",
    "On voit, finalement qu'on réalise $n+(n-1)+...+3.2.1=n(n+1)/2$ proche de $n^{2}$ comparaisons. \n",
    "\n",
    "On en déduit que ce nombre de comparaisons dépend de la dimension $n$ du tableau. On dit que la complexité de ce tri est **quadratique** et se note $O(n^{2})$.\n",
    "\n",
    "### Exemple\n",
    "\n",
    "1. Un tableau de 10 nombres à trier nécessitera $10^2$ comparaison soit 100 comparaisons.\n",
    "2. Un tableau de 20 nombres à trier nécessitera $20^2$ comparaison soit 400 comparaisons.\n",
    "3. Un tableau de 40 nombres à trier nécessitera $40^2$ comparaison soit 1600 comparaisons.\n",
    "\n",
    "Donc on peut dire que lorsque le nombre de valeurs double dans un tableau, le nombre de comparaisons est multiplié par 4."
   ]
  },
  {
   "cell_type": "code",
   "execution_count": 63,
   "id": "0555f97a",
   "metadata": {},
   "outputs": [],
   "source": [
    "def tri_selection(tableau):\n",
    "    tr1=0\n",
    "    tr2=0\n",
    "    i = 0\n",
    "    n = len(tableau)\n",
    "    while i < n:\n",
    "        j = i\n",
    "        position_valeur_minimale = i\n",
    "        while j < n:\n",
    "            if tableau[j] < tableau[position_valeur_minimale]:\n",
    "                position_valeur_minimale = j\n",
    "            j = j + 1\n",
    "            tr2+=1\n",
    "        if i != position_valeur_minimale:\n",
    "            tableau[i],tableau[position_valeur_minimale] = tableau[position_valeur_minimale],tableau[i]\n",
    "        i = i + 1\n",
    "        tr1+=tr2\n",
    "        tr2=0\n",
    "    return tr1"
   ]
  },
  {
   "cell_type": "code",
   "execution_count": 62,
   "id": "1a7e5293",
   "metadata": {},
   "outputs": [
    {
     "data": {
      "text/plain": [
       "5050"
      ]
     },
     "execution_count": 62,
     "metadata": {},
     "output_type": "execute_result"
    }
   ],
   "source": [
    "t = [randint(0,10000) for _ in range(100)]\n",
    "tri_selection(t)"
   ]
  },
  {
   "cell_type": "markdown",
   "id": "5f9f8d38",
   "metadata": {},
   "source": [
    "## Mesure du temps d'exécution\n",
    "\n",
    "### %%timeit (dans un notebook)\n",
    "\n",
    "la commande magique de jupyter %%timeit mesure le temps d'exécution d'un programme ou d'une instruction. L'avantage est la simplicité de la commande qui gère automatiquement les arguments.\n",
    "\n",
    "#### Lecture de la valeur retournée\n",
    "\n",
    "**Exemple:**\n",
    "\n",
    "```python\n",
    "%%timeit\n",
    "ma_fonction(100)\n",
    "\n",
    "5.33 µs ± 75 ns per loop (mean ± std. dev. of 7 runs, 100000 loops each)\n",
    "```\n",
    "\n",
    "- La valeur 5.33 µs ± 75 ns per loop donne le temps dexécution en microseconde pour exécuter la fonction.\n",
    "- La valeur entre parenthèses indique le nombre de fois que la fonction a été exécutée, ici $100000=10^{5}$ fois.\n",
    "\n",
    "Le temps d'exécution de la fonction est donc: $5.33$ µs soit $5.33 \\times 10^{-6}$ seconde.\n",
    "\n",
    "### La bibliothèque timeit (dans Python)\n",
    "\n",
    "La commande utilise la bibliothèque python **timeit**.\n",
    "\n",
    "On importe la bibliothèque : `import timeit`\n",
    "\n",
    "La bibliothèque contient la fonction timeit : `timeit.timeit()`\n",
    "\n",
    "Cette fonction prend 3 paramètres:\n",
    "1. le premier paramètre (obligatoire) est l'appel de la fonction à mesurer sous la forme d'une chaine de caractères avec les arguments.\n",
    "2. Le second paramètre (obligatoire) est l'exécution de la fonction pour le programme en environnement virtuel.\n",
    "3. Le troisième paramètre (optionnel) indique le nombre de fois que l'on va exécuter la fonction à mesurer (pour avoir une bonne mesure). S'il n'est pas indiqué, la valeur par défaut est 1 million soit $10^{6}$.\n",
    "\n",
    "**Exemple**\n",
    "```python\n",
    "import timeit\n",
    "print(timeit.timeit( \\\n",
    "                    \"repeter(100)\",\\ # appel de la fonction sous forme d'une chaine de caractères\n",
    "                    setup=\"from __main__ import repeter\",\\ # exécution de la fonction\n",
    "                    number=100000)) # nombre de fois qu'elle est exécutée\n",
    "0.5350796999991871\n",
    "```\n",
    "La valeur renvoyée est exprimée en seconde pour les $100000=10^{5}$ (number) exécutions.    \n",
    "Donc, il faut diviser par $10^{5}$ pour connaitre le temps d'exécution de la fonction: $0.535 \\times 10^{-5} = 5.35 \\times 10^{-6}$ seconde soit $5.35$ µs.\n",
    "\n",
    "**Remarque**     \n",
    "L'exécution 1 million de fois d'une fonction peut être long, très long. Il faut parfois réaliser moins d'exécutions quitte à perdre un peu en précision. Il faut alors penser à recalculer le temps d'exécution."
   ]
  },
  {
   "cell_type": "markdown",
   "id": "6a8f0d93",
   "metadata": {},
   "source": [
    "### Mesure du temps d'exécution : tri par selection\n",
    "\n",
    "La complexité du tri par sélection est **quadratique**. Cela est palpable dans des tableaux qui génèrent un grand nombre d'opérations élémentaires, c'est ce qu'on appelle les pire cas.\n",
    "\n",
    "En mesurant le temps d'exécution du tri par selection, on voit très bien que lorsque la taille des données augmentent, le temps d'exécution augmente encore plus vite."
   ]
  },
  {
   "cell_type": "code",
   "execution_count": 19,
   "id": "58f9f332",
   "metadata": {},
   "outputs": [
    {
     "name": "stdout",
     "output_type": "stream",
     "text": [
      "100\n"
     ]
    }
   ],
   "source": [
    "t = [randint(0,10000) for _ in range(100)]\n",
    "print(len(t))"
   ]
  },
  {
   "cell_type": "code",
   "execution_count": 20,
   "id": "8b8e942a",
   "metadata": {},
   "outputs": [
    {
     "name": "stdout",
     "output_type": "stream",
     "text": [
      "553 µs ± 3.64 µs per loop (mean ± std. dev. of 7 runs, 1000 loops each)\n"
     ]
    }
   ],
   "source": [
    "%%timeit\n",
    "\n",
    "# temps de tri par selction pour 100 nombres\n",
    "tri_selection(t)"
   ]
  },
  {
   "cell_type": "code",
   "execution_count": 7,
   "id": "2dd3f005",
   "metadata": {},
   "outputs": [
    {
     "name": "stdout",
     "output_type": "stream",
     "text": [
      "2.17 ms ± 14.3 µs per loop (mean ± std. dev. of 7 runs, 100 loops each)\n"
     ]
    }
   ],
   "source": [
    "%%timeit\n",
    "\n",
    "# temps de tri par selction pour 200 nombres\n",
    "tri_selection(t)"
   ]
  },
  {
   "cell_type": "code",
   "execution_count": 9,
   "id": "4dc5ea7f",
   "metadata": {},
   "outputs": [
    {
     "name": "stdout",
     "output_type": "stream",
     "text": [
      "9.13 ms ± 76.2 µs per loop (mean ± std. dev. of 7 runs, 100 loops each)\n"
     ]
    }
   ],
   "source": [
    "%%timeit\n",
    "\n",
    "# temps de tri par selction pour 400 nombres\n",
    "tri_selection(t)"
   ]
  },
  {
   "cell_type": "code",
   "execution_count": 11,
   "id": "19371352",
   "metadata": {},
   "outputs": [
    {
     "name": "stdout",
     "output_type": "stream",
     "text": [
      "38.4 ms ± 924 µs per loop (mean ± std. dev. of 7 runs, 10 loops each)\n"
     ]
    }
   ],
   "source": [
    "%%timeit\n",
    "\n",
    "# temps de tri par selction pour 800 nombres\n",
    "tri_selection(t)"
   ]
  },
  {
   "cell_type": "code",
   "execution_count": 13,
   "id": "a375527c",
   "metadata": {},
   "outputs": [
    {
     "name": "stdout",
     "output_type": "stream",
     "text": [
      "14.2 ms ± 67.7 µs per loop (mean ± std. dev. of 7 runs, 100 loops each)\n"
     ]
    }
   ],
   "source": [
    "%%timeit\n",
    "\n",
    "# temps de tri par selction pour 500 nombres\n",
    "tri_selection(t)"
   ]
  },
  {
   "cell_type": "markdown",
   "id": "0490cae9",
   "metadata": {},
   "source": [
    "### Conclusion\n",
    "\n",
    "On remarque que lorsque le nombre de valeurs double, le temps d'exécution est quadruplé.\n",
    "\n",
    "Si on multiplie la taille $n$ des données par un nombre positif $k$, le temps d'exécution est multiplié par $k^{2}$."
   ]
  },
  {
   "cell_type": "markdown",
   "id": "1481758a",
   "metadata": {},
   "source": [
    "### Mesure du temps d'exécution : tri par insertion\n",
    "\n",
    "La complexité du tri par insertion est aussi **quadratique**. Cela est palpable dans des tableaux qui génèrent un grand nombre de décalages, c'est ce qu'on appelle les pire cas.\n",
    "\n",
    "Dans un tableau quelconque, la complexité peut tendre vers un complexité linéaire. On l'observe ci-dessous avec les mesures réalisées. La dimension du tableau double et le temps d'exécution double aussi."
   ]
  },
  {
   "cell_type": "code",
   "execution_count": 39,
   "id": "ff07f15e",
   "metadata": {},
   "outputs": [
    {
     "name": "stdout",
     "output_type": "stream",
     "text": [
      "3200\n"
     ]
    }
   ],
   "source": [
    "t = [randint(0,10000) for _ in range(3200)]\n",
    "print(len(t))"
   ]
  },
  {
   "cell_type": "code",
   "execution_count": 30,
   "id": "9c1ac0b8",
   "metadata": {},
   "outputs": [
    {
     "name": "stdout",
     "output_type": "stream",
     "text": [
      "24.3 µs ± 567 ns per loop (mean ± std. dev. of 7 runs, 10000 loops each)\n"
     ]
    }
   ],
   "source": [
    "%%timeit\n",
    "\n",
    "# temps de tri par insertion pour 100 nombres\n",
    "tri_insertion(t)"
   ]
  },
  {
   "cell_type": "code",
   "execution_count": 32,
   "id": "c934b96c",
   "metadata": {},
   "outputs": [
    {
     "name": "stdout",
     "output_type": "stream",
     "text": [
      "48.3 µs ± 190 ns per loop (mean ± std. dev. of 7 runs, 10000 loops each)\n"
     ]
    }
   ],
   "source": [
    "%%timeit\n",
    "\n",
    "# temps de tri par insertion pour 200 nombres\n",
    "tri_insertion(t)"
   ]
  },
  {
   "cell_type": "code",
   "execution_count": 34,
   "id": "c116f724",
   "metadata": {},
   "outputs": [
    {
     "name": "stdout",
     "output_type": "stream",
     "text": [
      "97.3 µs ± 383 ns per loop (mean ± std. dev. of 7 runs, 10000 loops each)\n"
     ]
    }
   ],
   "source": [
    "%%timeit\n",
    "\n",
    "# temps de tri par insertion pour 400 nombres\n",
    "tri_insertion(t)"
   ]
  },
  {
   "cell_type": "code",
   "execution_count": 36,
   "id": "ca40fe83",
   "metadata": {},
   "outputs": [
    {
     "name": "stdout",
     "output_type": "stream",
     "text": [
      "197 µs ± 1.83 µs per loop (mean ± std. dev. of 7 runs, 10000 loops each)\n"
     ]
    }
   ],
   "source": [
    "%%timeit\n",
    "\n",
    "# temps de tri par insertion pour 800 nombres\n",
    "tri_insertion(t)"
   ]
  },
  {
   "cell_type": "code",
   "execution_count": 38,
   "id": "5597140e",
   "metadata": {},
   "outputs": [
    {
     "name": "stdout",
     "output_type": "stream",
     "text": [
      "402 µs ± 5.95 µs per loop (mean ± std. dev. of 7 runs, 1000 loops each)\n"
     ]
    }
   ],
   "source": [
    "%%timeit\n",
    "\n",
    "# temps de tri par insertion pour 1600 nombres\n",
    "tri_insertion(t)"
   ]
  },
  {
   "cell_type": "code",
   "execution_count": 40,
   "id": "e3c6d29a",
   "metadata": {},
   "outputs": [
    {
     "name": "stdout",
     "output_type": "stream",
     "text": [
      "804 µs ± 29.6 µs per loop (mean ± std. dev. of 7 runs, 1 loop each)\n"
     ]
    }
   ],
   "source": [
    "%%timeit\n",
    "\n",
    "# temps de tri par insertion pour 3200 nombres\n",
    "tri_insertion(t)"
   ]
  },
  {
   "cell_type": "markdown",
   "id": "09c40b0f",
   "metadata": {},
   "source": [
    "### Remarque\n",
    "\n",
    "Les listes Python ont une méthode de tri très efficace. On peut mesure son exécution pour comparer."
   ]
  },
  {
   "cell_type": "code",
   "execution_count": 45,
   "id": "5a10cc7e",
   "metadata": {},
   "outputs": [
    {
     "name": "stdout",
     "output_type": "stream",
     "text": [
      "6400\n"
     ]
    }
   ],
   "source": [
    "t = [randint(0,10000) for _ in range(6400)]\n",
    "print(len(t))"
   ]
  },
  {
   "cell_type": "code",
   "execution_count": 42,
   "id": "c8e704f6",
   "metadata": {},
   "outputs": [
    {
     "name": "stdout",
     "output_type": "stream",
     "text": [
      "695 ns ± 4.9 ns per loop (mean ± std. dev. of 7 runs, 1000000 loops each)\n"
     ]
    }
   ],
   "source": [
    "%%timeit\n",
    "\n",
    "# temps de tri par insertion pour 100 nombres\n",
    "t.sort()"
   ]
  },
  {
   "cell_type": "code",
   "execution_count": 44,
   "id": "1c066077",
   "metadata": {},
   "outputs": [
    {
     "name": "stdout",
     "output_type": "stream",
     "text": [
      "9.35 µs ± 39.1 ns per loop (mean ± std. dev. of 7 runs, 100000 loops each)\n"
     ]
    }
   ],
   "source": [
    "%%timeit\n",
    "\n",
    "# temps de tri par insertion pour 1600 nombres\n",
    "t.sort()"
   ]
  },
  {
   "cell_type": "code",
   "execution_count": 46,
   "id": "bb7e4ae5",
   "metadata": {},
   "outputs": [
    {
     "name": "stdout",
     "output_type": "stream",
     "text": [
      "39.8 µs ± 263 ns per loop (mean ± std. dev. of 7 runs, 10000 loops each)\n"
     ]
    }
   ],
   "source": [
    "%%timeit\n",
    "\n",
    "# temps de tri par insertion pour 6400 nombres\n",
    "t.sort()"
   ]
  },
  {
   "cell_type": "markdown",
   "id": "ba3b38bc",
   "metadata": {},
   "source": [
    "### Remarque\n",
    "\n",
    "Les temps d'exécution augmentent linéairement avec la taille du tableau. On peut créer un pire cas en prenant des tableaux rangés en ordre décroissant.\n",
    "\n",
    "Mais le temps d'exécution reste linéaire. Alors pourquoi ?\n",
    "\n",
    "Il est très probable que cela provienne de la gestion des tableaux par Python. Il n'y a pas de décalage de valeur à proprement parlé, qui impliquerai une lecture et écriture en mémoire, mais certainement un jeu d'adressage vers les valeurs qui évite les écritures et lecture en mémoire et donc diminue le temps d'exécution."
   ]
  },
  {
   "cell_type": "code",
   "execution_count": 60,
   "id": "718b92ea",
   "metadata": {},
   "outputs": [
    {
     "data": {
      "text/plain": [
       "10000"
      ]
     },
     "execution_count": 60,
     "metadata": {},
     "output_type": "execute_result"
    }
   ],
   "source": [
    "n = 10000\n",
    "t = [n - i for i in range(n)]\n",
    "len(t)"
   ]
  },
  {
   "cell_type": "code",
   "execution_count": 50,
   "id": "716a1ce4",
   "metadata": {},
   "outputs": [
    {
     "name": "stdout",
     "output_type": "stream",
     "text": [
      "24.7 µs ± 459 ns per loop (mean ± std. dev. of 7 runs, 10000 loops each)\n"
     ]
    }
   ],
   "source": [
    "%%timeit\n",
    "\n",
    "# temps de tri par insertion pour 100 nombres\n",
    "tri_insertion(t)"
   ]
  },
  {
   "cell_type": "code",
   "execution_count": 59,
   "id": "1f1af7e8",
   "metadata": {},
   "outputs": [
    {
     "name": "stdout",
     "output_type": "stream",
     "text": [
      "259 µs ± 9.78 µs per loop (mean ± std. dev. of 7 runs, 1000 loops each)\n"
     ]
    }
   ],
   "source": [
    "%%timeit\n",
    "\n",
    "# temps de tri par insertion pour 1000 nombres\n",
    "tri_insertion(t)"
   ]
  },
  {
   "cell_type": "code",
   "execution_count": 61,
   "id": "78d346d2",
   "metadata": {},
   "outputs": [
    {
     "name": "stdout",
     "output_type": "stream",
     "text": [
      "2.57 ms ± 88.5 µs per loop (mean ± std. dev. of 7 runs, 1 loop each)\n"
     ]
    }
   ],
   "source": [
    "%%timeit\n",
    "\n",
    "# temps de tri par insertion pour 10000 nombres\n",
    "tri_insertion(t)"
   ]
  },
  {
   "cell_type": "code",
   "execution_count": null,
   "id": "d1a36a51",
   "metadata": {},
   "outputs": [],
   "source": []
  }
 ],
 "metadata": {
  "kernelspec": {
   "display_name": "Python 3 (ipykernel)",
   "language": "python",
   "name": "python3"
  },
  "language_info": {
   "codemirror_mode": {
    "name": "ipython",
    "version": 3
   },
   "file_extension": ".py",
   "mimetype": "text/x-python",
   "name": "python",
   "nbconvert_exporter": "python",
   "pygments_lexer": "ipython3",
   "version": "3.11.0"
  }
 },
 "nbformat": 4,
 "nbformat_minor": 5
}
